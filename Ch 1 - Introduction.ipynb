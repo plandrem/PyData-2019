{
 "cells": [
  {
   "cell_type": "markdown",
   "metadata": {},
   "source": [
    "# A Crash Course in Applied Linear Algebra\n",
    "Patrick Landreman | Spry Health"
   ]
  },
  {
   "cell_type": "markdown",
   "metadata": {},
   "source": [
    "### Some Motivation: Predicting the Future\n",
    "\n",
    "Since we are all busy people with too much to do, why should you spend your precious time reading this notebook? I'd like to give you a sample of the kind of power you'll have by the end.\n",
    "\n",
    "Consider the following time series plot:\n",
    "\n",
    "<img src='img/intro_system_ringing.png'>\n",
    "\n",
    "This could be the value of a stock price, or the position of an aircraft, or some biological signal, or any number of things. You are tasked with predicting the value at some future time. Looks unpleasant, no? Maybe there is some periodicity emerging by the end, but surely this is not a trivial task."
   ]
  },
  {
   "cell_type": "markdown",
   "metadata": {},
   "source": [
    "Now suppose you know that the series above was a mixture of a number of much simpler functions, and you could tell the amount of each function:\n",
    "\n",
    "<img src='img/intro_system_modes.png'>\n",
    "\n",
    "Predicting how each of these functions will evolve should be a much simpler task. The question is - how do you find these simpler functions, and how do you find the weight of each function?"
   ]
  },
  {
   "cell_type": "markdown",
   "metadata": {},
   "source": [
    "Perhaps more interesting, suppose the system above comes from a robotic arm which can move in a 2D plane. The time series corresponds to the position of the end of the arm in one direction - we kicked the system, which caused some shaking and oscillating that subsides over time. \n",
    "\n",
    "We'll describe the complete position with a pair of numbers, $(y_1, y_2)$. We also can control our robot with some inputs, $(u_1, u_2)$. If we wanted to drive the arm to a specific location, say $(y_1, y_2) = (0.2, -0.2)$, we can expect that the arm will move, and then because of momentum or other issues the system might overshoot a bit and take some time to stabilize (this is exactly the kind of thing that happens with the read head in a spinning-disk hard drive, for instance). The next image shows what happens if at 50 seconds we apply a specific set of inputs to reach the target:"
   ]
  },
  {
   "cell_type": "markdown",
   "metadata": {},
   "source": [
    "<img src='img/intro_naive_control.png'>\n",
    "\n",
    "Ok, we get there after ~3000 seconds, but it takes a while for the ringing to settle down."
   ]
  },
  {
   "cell_type": "markdown",
   "metadata": {},
   "source": [
    "Instead, however, it is possible to choose a more complicated sequence of inputs that brings the arm to the target in **exactly** a specified amount of time:\n",
    "\n",
    "<img src='img/intro_least_norm_control.png'>\n",
    "\n",
    "Here, the arm reaches the specified coordinates at 800 seconds and remains there, perfectly stable. From looking at the sequence of inputs, there is **no way** a human could intuit the sequence.\n",
    "\n",
    "This is just one of the kinds of problems I hope to expose you to today."
   ]
  },
  {
   "attachments": {},
   "cell_type": "markdown",
   "metadata": {},
   "source": [
    "### Acknowledgements\n",
    "\n",
    "*This presentation is dedicated to Prof. Stephen Boyd and Prof. Sanjay Lall, who first exposed me to this way of seeing the world. Many of the ideas I present here were inspired largely by them and their teachers, and they deserve credit for the enormous amount of work they have done.*\n",
    "\n",
    "*If this subject interests you, I* strongly *suggest exploring their [books](http://vmls-book.stanford.edu/), [course notes](http://ee263.stanford.edu/), and lecture series on [YouTube](https://www.youtube.com/playlist?list=PL06960BA52D0DB32B).*"
   ]
  },
  {
   "cell_type": "markdown",
   "metadata": {},
   "source": [
    "### Python Setup\n",
    "\n",
    "Everything in this talk can be done with a basic installation of Numpy and Scipy. The version should not be important. Scipy is used exclusively for some convenience functions, and Matplotlib is included only for visualization purposes. Neither are necessary for linear algebra. This notebook was written using Python 3.6, Numpy 1.16.4, Scipy 1.2.1 and Matplotlib 3.1.1"
   ]
  },
  {
   "cell_type": "code",
   "execution_count": 9,
   "metadata": {
    "ExecuteTime": {
     "end_time": "2019-11-04T04:34:25.444430Z",
     "start_time": "2019-11-04T04:34:25.431666Z"
    }
   },
   "outputs": [],
   "source": [
    "# Render MPL figures within notebook cells\n",
    "%matplotlib inline\n",
    "\n",
    "# Import python libraries\n",
    "import numpy as np\n",
    "import matplotlib.pyplot as plt\n",
    "from matplotlib import rcParams"
   ]
  },
  {
   "cell_type": "code",
   "execution_count": 10,
   "metadata": {
    "ExecuteTime": {
     "end_time": "2019-11-04T04:34:25.501434Z",
     "start_time": "2019-11-04T04:34:25.448882Z"
    }
   },
   "outputs": [],
   "source": [
    "# Configure some defaults for plots\n",
    "rcParams['font.size'] = 16\n",
    "rcParams['figure.figsize'] = (10, 3)"
   ]
  },
  {
   "cell_type": "code",
   "execution_count": 11,
   "metadata": {
    "ExecuteTime": {
     "end_time": "2019-11-04T04:34:25.513684Z",
     "start_time": "2019-11-04T04:34:25.506798Z"
    }
   },
   "outputs": [],
   "source": [
    "# Set Numpy's random number generator so the same results are produced each time the notebook is run\n",
    "np.random.seed(0)"
   ]
  },
  {
   "cell_type": "markdown",
   "metadata": {},
   "source": [
    "### Why did I make this notebook?\n",
    "\n",
    "\n",
    "If your exposure to the linear algebra was anything like my first course, you probably don't think back on the experience longingly, wishing you could relive those days. My professor literally opened the class by saying he didn't understand why linear algebra was interesting or useful. It was a pretty painful semester, full of abstract concepts like vector subspaces, and I just couldn't connect with the material. It wasn't until the end of my graduate school career when I took a class that beat me over the head with examples of how powerful and magical this subject can be. I want to share that experience with more people.\n",
    "\n",
    "Associating linear algebra with a kind of fascination or awe is especially helpful, because things like matrices and vectors have a way of showing up in just about every quantitative situation. In my world of signal processing and statistics, it's virtually impossible to get through a research paper without being comfortable manipulating vectors and matrices. \n",
    "\n",
    "Where the magic really becomes clear is when - for whatever discipline you're working in - you manage to cram your problem into something that looks like \n",
    "\n",
    "<br>\n",
    "\n",
    "<center>\n",
    "$\n",
    "\\begin{equation*}\n",
    "y = Ax\n",
    "\\end{equation*}\n",
    "$\n",
    "</center>\n",
    "<br>\n",
    "\n",
    "suddenly you can apply ideas from finance, quantum mechanics, operations research, RADAR, medical imaging, or any number of other fields to solve your problem. The only thing you need to learn to be dangerous in any of these fields is an intution for the properties and structure of the matrix $A$.\n",
    "\n",
    "So how can four ASCII characters (not including the spaces) apply to so many situations in the real world almost stupidly well? In part because each of these symbols encompass a great deal of complexity. Let's start by unpacking them one by one:"
   ]
  },
  {
   "cell_type": "markdown",
   "metadata": {},
   "source": [
    "### Vectors and Matrices\n",
    "\n",
    "All of this should be material you've seen in courses before, so I'll go through it very quickly just to put us on the same footing as far as notation.\n",
    "\n",
    "Beginning with $y$:\n",
    "\n",
    "$y$ is a **vector**, which is essentially a list of numbers. It's often useful to think of vectors as arrows that point from the origin to some point in space, where each entry of $y$ corresponds to a dimension in that space. For a 2-dimensional example, we could have a vector with entries $[2, 3]$ that one could visualize as \n",
    "\n",
    "<img src='img/vector.png' style='height: 250px'>\n",
    "\n",
    "As convention, lowercase variables without subscripts will be vectors. If $y$ is a vector, then $y_1$, $y_2 \\ldots$ are the entries of $y$."
   ]
  },
  {
   "cell_type": "markdown",
   "metadata": {},
   "source": [
    "Vectors add elementwise - that is, you add the elements in the corresponding positions. Graphically, this has the effect of starting one vector from the point of the other vector. The vector sum is the final point that is reached:\n",
    "\n",
    "<img src='img/vector_addition.png' style='height: 250px'>\n"
   ]
  },
  {
   "cell_type": "markdown",
   "metadata": {},
   "source": [
    "Vectors can be written in row or column form. For this presentation, all vectors are column vectors, and the corresponding row vectors are notated as e.g. $y^\\mathsf{T}$. The inner product (or dot product) of two vectors is \n",
    "\n",
    "<center>\n",
    "$y^\\mathsf{T} x=\n",
    "\\begin{bmatrix}\n",
    "y_1 & y_2 & \\ldots & y_n\n",
    "\\end{bmatrix}\n",
    "\\begin{bmatrix}\n",
    "x_1 \\\\\n",
    "x_2 \\\\\n",
    "\\vdots \\\\\n",
    "x_n\n",
    "\\end{bmatrix}\n",
    "= x_1y_1 + x_2y_2 + \\ldots + x_ny_n$\n",
    "</center>\n",
    "\n",
    "(This is a scalar)"
   ]
  },
  {
   "cell_type": "markdown",
   "metadata": {},
   "source": [
    "$A$ is a **matrix**. Matrices are a grid of numbers, and can be thought of as a horizontal stack of column vectors (or a vertical stack of row vectors). Matrices add elementwise. Multiplying a matrix by a vector is equivalent to a batch inner product of the vector with the rows of $A$.\n",
    "\n",
    "I'll use uppercase variables to indicate matrices, and lowercase letters with two subscripts, e.g. $a_{i,j}$, indicate the element in the $i$th row and $j$th column of $A$. If you encounter a matrix element with only one subscript, such as $a_i$, this refers to the vector containing the $i$th column of $A$. A lowercase character with a tilde, e.g. $\\tilde{a}_j$ means the $j$th row of $A$ *as a column vector*."
   ]
  },
  {
   "cell_type": "markdown",
   "metadata": {},
   "source": [
    "In Python, we'll use Numpy arrays for all of our matrices and vectors:"
   ]
  },
  {
   "cell_type": "code",
   "execution_count": 12,
   "metadata": {
    "ExecuteTime": {
     "end_time": "2019-11-04T04:34:26.087811Z",
     "start_time": "2019-11-04T04:34:26.075573Z"
    }
   },
   "outputs": [
    {
     "data": {
      "text/plain": [
       "array([0, 1, 2])"
      ]
     },
     "execution_count": 12,
     "metadata": {},
     "output_type": "execute_result"
    }
   ],
   "source": [
    "m, n = 3, 2\n",
    "\n",
    "# vectors are row vectors by default in Numpy\n",
    "y = np.arange(m)\n",
    "y"
   ]
  },
  {
   "cell_type": "code",
   "execution_count": 13,
   "metadata": {
    "ExecuteTime": {
     "end_time": "2019-11-04T04:34:26.148504Z",
     "start_time": "2019-11-04T04:34:26.091874Z"
    }
   },
   "outputs": [
    {
     "data": {
      "text/plain": [
       "array([[0],\n",
       "       [1],\n",
       "       [2]])"
      ]
     },
     "execution_count": 13,
     "metadata": {},
     "output_type": "execute_result"
    }
   ],
   "source": [
    "# To get column vectors we need to do a reshape operation\n",
    "y = y.reshape(-1, 1)\n",
    "y"
   ]
  },
  {
   "cell_type": "code",
   "execution_count": 14,
   "metadata": {
    "ExecuteTime": {
     "end_time": "2019-11-04T04:34:26.166216Z",
     "start_time": "2019-11-04T04:34:26.154737Z"
    }
   },
   "outputs": [
    {
     "data": {
      "text/plain": [
       "array([[1, 2, 3],\n",
       "       [4, 5, 6]])"
      ]
     },
     "execution_count": 14,
     "metadata": {},
     "output_type": "execute_result"
    }
   ],
   "source": [
    "# Matrices are defined from lists or Numpy's construction tools\n",
    "A = np.array([[1, 2, 3],\n",
    "              [4, 5, 6]])\n",
    "A"
   ]
  },
  {
   "cell_type": "code",
   "execution_count": 15,
   "metadata": {
    "ExecuteTime": {
     "end_time": "2019-11-04T04:34:26.190495Z",
     "start_time": "2019-11-04T04:34:26.172962Z"
    }
   },
   "outputs": [
    {
     "data": {
      "text/plain": [
       "array([[1., 1.],\n",
       "       [1., 1.],\n",
       "       [1., 1.]])"
      ]
     },
     "execution_count": 15,
     "metadata": {},
     "output_type": "execute_result"
    }
   ],
   "source": [
    "B = np.ones((m, n))\n",
    "B"
   ]
  },
  {
   "cell_type": "markdown",
   "metadata": {},
   "source": [
    "### Where do matrices come from?\n",
    "\n",
    "A system of linear equations\n",
    "\n",
    "<center>\n",
    "$\n",
    "\\begin{align*}\n",
    "    y_1 &= a_{1,1}x_1 + a_{1,2}x_2 + a_{1,3}x_3 + \\ldots + a_{1,n}x_{n} \\\\\n",
    "    y_2 &= a_{2,1}x_1 + a_{2,2}x_2 + a_{2,3}x_3 + \\ldots + a_{2,n}x_{n} \\\\\n",
    "    \\vdots \\\\\n",
    "    y_m &= a_{m,1}x_1 + a_{m,2}x_2 + a_{m,3}x_3 + \\ldots + a_{m,n}x_{n} \\\\\n",
    "\\end{align*}\n",
    "$\n",
    "</center>\n",
    "  \n",
    "can be re-written as \n",
    "    \n",
    "<center>\n",
    "$\n",
    "\\begin{bmatrix}\n",
    "y_1  \\\\\n",
    "y_2  \\\\\n",
    "\\vdots  \\\\\n",
    "y_m\n",
    "\\end{bmatrix}\n",
    "=\n",
    "\\begin{bmatrix}\n",
    "a_{1,1} & a_{1,2} & a_{1,3} & \\ldots & a_{1,m} \\\\\n",
    "a_{2,1} & a_{2,2} & a_{2,3} & \\ldots & a_{2,m} \\\\\n",
    "\\vdots \\\\\n",
    "a_{n,1} & a_{n,2} & a_{n,3} & \\ldots & a_{n,m} \\\\\n",
    "\\end{bmatrix}\n",
    "\\begin{bmatrix}\n",
    "x_1  \\\\\n",
    "x_2  \\\\\n",
    "\\vdots  \\\\\n",
    "x_m\n",
    "\\end{bmatrix}\n",
    "$\n",
    "</center>\n",
    "\n",
    "which we simplify as\n",
    "\n",
    "<center>\n",
    "$y=Ax$\n",
    "</center>\n"
   ]
  },
  {
   "cell_type": "markdown",
   "metadata": {},
   "source": [
    "We say that \n",
    "\n",
    "$y \\in \\mathbb{R}^m$  \n",
    "$x \\in \\mathbb{R}^n$  \n",
    "$A \\in \\mathbb{R}^{m \\times n}$\n",
    "\n",
    "...but of course these could also be complex.\n",
    "\n",
    "I'll stick to this convention of using $m$ as the number of rows and $n$ as the number of columns everywhere."
   ]
  },
  {
   "cell_type": "markdown",
   "metadata": {},
   "source": [
    "### Examples\n",
    "\n",
    "#### Classical Mechanics\n",
    "\n",
    "<img src='img\\rocket.png' style='height: 300px'>\n",
    "\n",
    "* $x$ represents a series of forces being applied at different points\n",
    "* $y$ represents the net force and torque on the total body\n",
    "* $\\mathbf{A}$ is determined by the geometry of the system"
   ]
  },
  {
   "cell_type": "markdown",
   "metadata": {},
   "source": [
    "#### Buisness Operations\n",
    "\n",
    "<img src='img\\excel.jpg' style='height: 150px'>\n",
    "\n",
    "e.g. Cost of production\n",
    "\n",
    "* $x$ represents the cost per component\n",
    "* $y$ represents the cost per finished product\n",
    "* $\\mathbf{A}$ is the Bill of Materials for each product"
   ]
  },
  {
   "cell_type": "markdown",
   "metadata": {},
   "source": [
    "#### Statistics\n",
    "\n",
    "e.g. Autoregressive Models\n",
    "\n",
    "<br>\n",
    "<center>\n",
    "$\n",
    "\\begin{align*}\n",
    "    x(T) &= a_1x(T-1) + a_2x(T-2) + a_3x(T-3) + \\ldots + a_nx(T-n) \\\\\n",
    "\\end{align*}\n",
    "$\n",
    "</center>\n",
    "\n",
    "<br>\n",
    "<br>\n",
    "\n",
    "<center>\n",
    "$\n",
    "\\begin{bmatrix}\n",
    "x(T+1)  \\\\\n",
    "\\vdots  \\\\\n",
    "x(n+2)  \\\\\n",
    "x(n+1)  \\\\\n",
    "\\end{bmatrix}\n",
    "=\n",
    "\\begin{bmatrix}\n",
    "x(T-n+1) & x(T-n+2) & x(T-n+3) & \\ldots & x(T) \\\\\n",
    "\\vdots \\\\\n",
    "x(2) & x(3) & x(4) & \\ldots & x(n+1) \\\\\n",
    "x(1) & x(2) & x(3) & \\ldots & x(n) \\\\\n",
    "\\end{bmatrix}\n",
    "\\begin{bmatrix}\n",
    "a_1  \\\\\n",
    "a_2  \\\\\n",
    "\\vdots  \\\\\n",
    "a_n\n",
    "\\end{bmatrix}\n",
    "$\n",
    "</center>\n",
    "\n",
    "\n",
    "* $x$ is the coefficients of the model for each lag\n",
    "* $y$ is the time series output of the model\n",
    "* $\\mathbf{A}$ is a stack of lagged windows of the time series"
   ]
  },
  {
   "cell_type": "markdown",
   "metadata": {},
   "source": [
    "### More than just Lines\n",
    "\n",
    "This last example of an Autoregressive Model, as well as the time series forecasting example at the beginning, are great for highlighting that linear algebra applies to situations that look anything but linear! Let's explore this idea more closely - consider the case of a polynomial evaluated at $m$ different points:\n",
    "\n",
    "<br>\n",
    "\n",
    "<center>\n",
    "$\n",
    "\\begin{align*}\n",
    "    y_1 &= a_1 + a_{2}x_1 + a_{3}x_1^2 + \\ldots + a_{n}x_1^{n-1} \\\\\n",
    "    y_2 &= a_1 + a_{2}x_2 + a_{3}x_2^2 + \\ldots + a_{n}x_2^{n-1} \\\\\n",
    "    \\vdots \\\\\n",
    "    y_m &= a_1 + a_{2}x_m + a_{3}x_m^2 + \\ldots + a_{n}x_m^{n-1} \\\\\n",
    "\\end{align*}\n",
    "$\n",
    "</center>\n",
    "\n",
    "<br>\n",
    "\n",
    "It's certainly true that these equations are not linear as far as $x$ is concerned. BUT! The coefficients of the polynomial are all first order, which means we can write the system of equations this way:\n",
    "<br>\n",
    "\n",
    "<center>\n",
    "$\n",
    "\\begin{bmatrix}\n",
    "y_1  \\\\\n",
    "y_2  \\\\\n",
    "\\vdots  \\\\\n",
    "y_m  \\\\\n",
    "\\end{bmatrix}\n",
    "=\n",
    "\\begin{bmatrix}\n",
    "1 & x_1 & x_1^2 & \\ldots & x_1^{n-1} \\\\\n",
    "1 & x_2 & x_2^2 & \\ldots & x_2^{n-1} \\\\\n",
    "\\vdots \\\\\n",
    "1 & x_m & x_m^2 & \\ldots & x_m^{n-1} \\\\\n",
    "\\end{bmatrix}\n",
    "\\begin{bmatrix}\n",
    "a_1  \\\\\n",
    "a_2  \\\\\n",
    "\\vdots  \\\\\n",
    "a_n\n",
    "\\end{bmatrix}\n",
    "$\n",
    "</center>\n"
   ]
  },
  {
   "cell_type": "markdown",
   "metadata": {},
   "source": [
    "In fact, there is absolutely no requirement on where the entries of $A$ come from! They often will arise from some horrendous expressions involving sines, logarithms, or enhanced spherical Riemann functions of the 60th kind (I made that up). As long as you can remain calm, slowly step back, and recognize that the **mixture** of these functions is still linear, then you still have\n",
    "\n",
    "<br>\n",
    "\n",
    "<center>\n",
    "$\n",
    "\\begin{align*}\n",
    "    y_1 &= a_{1}f_1(x_1) + a_{2}f_2(x_1) + a_{3}f_3(x_1) + \\ldots + a_{n}f_n(x_1) \\\\\n",
    "    y_2 &= a_{1}f_1(x_2) + a_{2}f_2(x_2) + a_{3}f_3(x_2) + \\ldots + a_{n}f_n(x_2) \\\\\n",
    "    \\vdots \\\\\n",
    "    y_m &= a_{1}f_1(x_m) + a_{2}f_2(x_m) + a_{3}f_3(x_m) + \\ldots + a_{n}f_n(x_m) \\\\\n",
    "\\end{align*}\n",
    "$\n",
    "</center>\n",
    "\n",
    "<br>\n",
    "<br>\n",
    "\n",
    "<center>\n",
    "$\n",
    "\\begin{bmatrix}\n",
    "y_1  \\\\\n",
    "y_2  \\\\\n",
    "\\vdots  \\\\\n",
    "y_m  \\\\\n",
    "\\end{bmatrix}\n",
    "=\n",
    "\\begin{bmatrix}\n",
    "f_1(x_1) & f_2(x_1) & f_3(x_1) & \\ldots & f_n(x_1) \\\\\n",
    "f_1(x_2) & f_2(x_2) & f_3(x_2) & \\ldots & f_n(x_2) \\\\\n",
    "\\vdots \\\\\n",
    "f_m(x_m) & f_2(x_m) & f_3(x_m) & \\ldots & f_n(x_m) \\\\\n",
    "\\end{bmatrix}\n",
    "\\begin{bmatrix}\n",
    "a_1  \\\\\n",
    "a_2  \\\\\n",
    "\\vdots  \\\\\n",
    "a_n\n",
    "\\end{bmatrix}\n",
    "$\n",
    "</center>"
   ]
  },
  {
   "cell_type": "markdown",
   "metadata": {},
   "source": [
    "#### Linearization\n",
    "\n",
    "Another reason why linear algebra applies to so many situations is that many problems which are *technically* nonlinear can be approximated as linear with a negligible amount of error. A common way this comes up (and a favorite approach of physicists everywhere) is by invoking a \"Taylor series approximation\". Imagine you are standing at a point $a$ on a number line, and you know the value of some function $f$ at your current location. If you were to move from $a$ to a new point $x$, the change you would see in the value of the function is a weighted sum of different derivatives of $f$:\n",
    "\n",
    "$f(x) = f(a)+\\frac {f'(a)}{1!} (x-a)+ \\frac{f''(a)}{2!} (x-a)^2+\\frac{f'''(a)}{3!}(x-a)^3+ \\cdots$  \n",
    "\n",
    "The weighting (read: \"practical importance\") of the terms depends on how far you have moved. For any function, in any practical situation, there will be some point close to $a$ where the error from throwing away all the terms which are nonlinear in $x$ is irrelevant to what you are trying to accomplish.\n",
    "\n",
    "That is, for $x$ \"very\" close to $a$:  \n",
    "  \n",
    "$f(x) \\sim f(a)+\\frac {f'(a)}{1!} (x-a)$\n",
    "\n",
    "It can be helpful to see this visually. The figure below shows Taylor approximations to $f(x)=\\sin(x)$ for $a=0$. The order of the approximations are 1, 3, 5, 7, 9, 11 and 13. Notice how in the range (-1, 1), a straight line looks reasonably equivalent to $\\sin(x)$! Whether or not it is \"reasonable\" depends on your application.\n",
    "\n",
    "<img src='img/taylor_series.png' style='height:300px'>\n",
    "\n"
   ]
  },
  {
   "cell_type": "markdown",
   "metadata": {},
   "source": [
    "#### Example - GPS\n",
    "\n",
    "<img src='img/gps.png' style='height: 300px'>\n",
    "\n",
    "GPS sattelites orbit at an altitude of ~20 km<sup>1</sup>. For a 1-meter deviation off-axis, the resulting fractional error from linearizing would be "
   ]
  },
  {
   "cell_type": "code",
   "execution_count": 16,
   "metadata": {
    "ExecuteTime": {
     "end_time": "2019-11-04T04:34:26.885021Z",
     "start_time": "2019-11-04T04:34:26.870692Z"
    }
   },
   "outputs": [
    {
     "data": {
      "text/plain": [
       "1.2500000593718141e-09"
      ]
     },
     "execution_count": 16,
     "metadata": {},
     "output_type": "execute_result"
    }
   ],
   "source": [
    "x = 20e3\n",
    "y = 1\n",
    "\n",
    "(np.sqrt(x**2 + y**2) - x) / x"
   ]
  },
  {
   "cell_type": "markdown",
   "metadata": {},
   "source": [
    "Assuming that you can live with a few nano-percent of error in locating your position, then GPS may as well be a linear problem.\n",
    "\n",
    "\n",
    "<sup>1</sup>https://www.gps.gov/systems/gps/space/"
   ]
  }
 ],
 "metadata": {
  "author": "l",
  "kernelspec": {
   "display_name": "Python 3",
   "language": "python",
   "name": "python3"
  },
  "language_info": {
   "codemirror_mode": {
    "name": "ipython",
    "version": 3
   },
   "file_extension": ".py",
   "mimetype": "text/x-python",
   "name": "python",
   "nbconvert_exporter": "python",
   "pygments_lexer": "ipython3",
   "version": "3.6.7"
  },
  "latex_envs": {
   "LaTeX_envs_menu_present": true,
   "autoclose": true,
   "autocomplete": true,
   "bibliofile": "biblio.bib",
   "cite_by": "apalike",
   "current_citInitial": 1,
   "eqLabelWithNumbers": true,
   "eqNumInitial": 1,
   "hotkeys": {
    "equation": "Ctrl-E",
    "itemize": "Ctrl-I"
   },
   "labels_anchors": false,
   "latex_user_defs": false,
   "report_style_numbering": false,
   "user_envs_cfg": false
  },
  "toc": {
   "base_numbering": 1,
   "nav_menu": {},
   "number_sections": false,
   "sideBar": true,
   "skip_h1_title": false,
   "title_cell": "Table of Contents",
   "title_sidebar": "Contents",
   "toc_cell": false,
   "toc_position": {},
   "toc_section_display": true,
   "toc_window_display": false
  }
 },
 "nbformat": 4,
 "nbformat_minor": 2
}
