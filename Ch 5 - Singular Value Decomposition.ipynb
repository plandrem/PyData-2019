{
 "cells": [
  {
   "cell_type": "markdown",
   "metadata": {},
   "source": [
    "# Singular Value Decomposition\n",
    "\n",
    "The Singular Value Decomposition (SVD) is a topic that is not part of the standard linear algebra introduction, but is possibly the most incredibly powerful tool in the field. The SVD makes many mathematical proofs very straightforward, and has immediate applications in\n",
    "\n",
    "* compression,\n",
    "* error analysis,\n",
    "* convex **and** non-convex optimization,\n",
    "\n",
    "...just to name a few."
   ]
  },
  {
   "cell_type": "markdown",
   "metadata": {},
   "source": [
    "### Python Setup"
   ]
  },
  {
   "cell_type": "code",
   "execution_count": 1,
   "metadata": {
    "ExecuteTime": {
     "end_time": "2019-11-03T21:54:57.746169Z",
     "start_time": "2019-11-03T21:54:56.391964Z"
    }
   },
   "outputs": [],
   "source": [
    "# Render MPL figures within notebook cells\n",
    "%matplotlib inline\n",
    "\n",
    "# Import python libraries\n",
    "import numpy as np\n",
    "import matplotlib.pyplot as plt\n",
    "from matplotlib import rcParams"
   ]
  },
  {
   "cell_type": "code",
   "execution_count": 2,
   "metadata": {
    "ExecuteTime": {
     "end_time": "2019-11-03T21:54:57.758468Z",
     "start_time": "2019-11-03T21:54:57.750295Z"
    }
   },
   "outputs": [],
   "source": [
    "# Configure some defaults for plots\n",
    "rcParams['font.size'] = 16\n",
    "rcParams['figure.figsize'] = (10, 3)"
   ]
  },
  {
   "cell_type": "code",
   "execution_count": 3,
   "metadata": {
    "ExecuteTime": {
     "end_time": "2019-11-03T21:54:57.767433Z",
     "start_time": "2019-11-03T21:54:57.762978Z"
    }
   },
   "outputs": [],
   "source": [
    "# Set Numpy's random number generator so the same results are produced each time the notebook is run\n",
    "np.random.seed(0)"
   ]
  },
  {
   "cell_type": "markdown",
   "metadata": {},
   "source": [
    "### Derivation\n",
    "\n",
    "The SVD is a way of decomposing a matrix into smaller matrices with very well-defined structure. We can do a nice derivation of the derivation, again, geometrically:\n",
    "\n",
    "We start with the fun fact that if you transform a sphere of unit radius by **any** matrix $A$, the resulting points make an ellipse. Notice that we are **not restricted in any way** on the matrix $A$ here.\n",
    "\n",
    "<img src='img/svd.png' style='height: 200px'>\n",
    "\n",
    "The output ellipse is defined by a set of mutually orthogonal principal axis vectors, $u$. Orthogonality, as a reminder, means that the inner product between two different vectors in the set is zero:  \n",
    "<br>\n",
    "<center>\n",
    "    $u_1^{\\mathsf{T}}u_2 = 0$\n",
    "</center>\n",
    "<br>\n",
    "\n",
    "An absolutely remarkable result is that - working backwards - the input vectors $v$ that map onto the principle axes **also** form a mutually orthogonal set. For simplicity, we'll scale the $u$ and $v$ vectors to have unit length, and use coefficients $\\sigma$ to make the equality work out.\n",
    "\n",
    "<br>\n",
    "<center>\n",
    "    $Av=\\sigma u$\n",
    "</center>\n",
    "<br>\n",
    "\n",
    "Now, we can horizontally stack all the vectors into matrices:  \n",
    "\n",
    "<br>\n",
    "<center>\n",
    "    $AV=U\\Sigma$\n",
    "</center>\n",
    "<br>\n",
    "\n",
    "The matrix $\\Sigma$ contains the scaling coefficients $\\sigma$ along its main diagonal:\n",
    "\n",
    "<img src='img/svd_matrices.png' style='height: 200px'>\n",
    "\n",
    "We need one last piece, which comes from exploiting the fact that these new matrices $U$ and $V$ are built from mutually orthogonal vectors with length 1. These are called **orthogonal** matrices, and have the property that  \n",
    "\n",
    "<br>\n",
    "<center>\n",
    "    $V^\\mathsf{T} V = VV^\\mathsf{T} = I \\\\\n",
    "    U^\\mathsf{T} U = UU^\\mathsf{T} = I$\n",
    "</center>\n",
    "<br>\n",
    "\n",
    "Therefore, we can conclude that **any** matrix $A$ can be written in the form  \n",
    "\n",
    "<br>\n",
    "<center>\n",
    "    $A=U\\Sigma V^\\mathsf{T}$\n",
    "</center>\n",
    "<br>\n",
    "\n",
    "This is the singular value decomposition, where \"singular values\" refers to the scaling coefficients $\\sigma$. Let's dive into how we can use this thing for fun and profit.\n"
   ]
  },
  {
   "cell_type": "markdown",
   "metadata": {},
   "source": [
    "### Pseudoinverse\n",
    "\n",
    "We saw in the previous section the least squares and least norm solutions when solving problems of the form $y = Ax$. The SVD provides an inconceivably simple way of arriving at these solutions *simultaneously*. \n",
    "\n",
    "1. Drop any rows or columns in $\\Sigma$ that have only zeros such that it becomes a square, diagonal matrix. If A has rank $r$, this will give $U \\in \\mathbb{R}^{m, r}$, $V \\in \\mathbb{R}^{n, r}$, and $\\Sigma \\in \\mathbb{R}^{r, r}$.\n",
    "2. Now, by construction the matrix $V\\Sigma^{-1}U^{\\mathsf{T}}$ is an inverse to $U\\Sigma V^{\\mathsf{T}}$ (this is super easy to test)\n",
    "3. Therefore, $x = V\\Sigma^{-1}U^{\\mathsf{T}}y$\n",
    "\n",
    "It's easy to show just by substituting the SVD into the least squares and least norm solutions that one arrives at the same result. Try this at home - cancelling everything out is immensely satisfying.\n",
    "\n",
    "The matrix $V\\Sigma^{-1}U^{\\mathsf{T}}$ is so significant that it has a fancy name, the **Moore-Penrose Pseudoinverse**. It also has a fancy notation, $A^{\\dagger}$."
   ]
  },
  {
   "cell_type": "markdown",
   "metadata": {},
   "source": [
    "### Basis for the Nullspace\n",
    "\n",
    "I mentioned in the dicussion on the nullspace back in chapter 1 that there would be a way to get the basis vectors for the nullspace. If $A$ has rank $r$, then the last $n-r$ columns of $V$ are those basis vectors! These are the directions in the input space that get multiplied by singular values of zero, and are, thus, flattened."
   ]
  },
  {
   "cell_type": "markdown",
   "metadata": {},
   "source": [
    "### Error Analysis\n",
    "\n",
    "Suppose you have a linear system with some small error, $\\delta$ in the observed measurement such that $y = Ax + \\delta$. If you solve using the pseudoinverse, the resulting error in the estimate of $x$ will be $V\\Sigma^{-1} U^{\\mathsf{T}}\\delta$. A property of $U$ and $V$ as orthogonal matrices is that, when viewed as a transform, they only rotate or reflect - lengths of vectors are preserved. This means the only thing that affects the magnitude of the error is $\\Sigma^{-1}$. This is a diagonal matrix whose entries are $\\sigma_i^{-1}$ - if $\\sigma_i$ is very, very small, then this means you have very, very big numbers multiplying your errors!\n",
    "\n",
    "You will see people refer to matrices as **well-conditioned** or **ill-conditioned**. These terms indicate whether the matrix has these very small singular values and is at risk of producing large errors. How small is small, though? Since size is relative, the standard is to normalize to the largest singular value. This gives us the concept of the **condition number**:  \n",
    "\n",
    "<br>\n",
    "<center>\n",
    "    $k = \\frac{\\sigma_{max}}{\\sigma_{min}}$\n",
    "</center>\n",
    "<br>\n",
    "\n",
    "When $k$ is large, there is a wide spread in the singular values and our estimates may be very sensitive to small changes or noise."
   ]
  },
  {
   "cell_type": "markdown",
   "metadata": {},
   "source": [
    "### Low-Rank Approximation\n",
    "\n",
    "For any matrix that you would obtain from *measurements* of something, as opposed to analytically, it's basically guaranteed that the matrix will be full rank. Suppose you build a measurement system whose corresponding matrix is **not** full rank - if you so much as speak loudly nearby, the infinitesimal noise you introduce will add some floating point-level error that a computer will correctly identify as \"full rank\". Practically, though, your matrix is still singular.\n",
    "\n",
    "The SVD provides a handy solution - simply round the smallest singular values to zero. One can show this is actually an optimal approximation to the original matrix $A$ under a particular cost function (the details are beyond the scope of what I'm covering here, but the Boyd lectures explain it well!). How small should you set the threshold? That depends on your application. We'll see an example below."
   ]
  },
  {
   "cell_type": "markdown",
   "metadata": {},
   "source": [
    "#### Compression\n",
    "\n",
    "I mentioned in the discussion on rank that any matrix $A$ can be factored into component matrices such that $A = QR$, which require storing fewer elements than the original matrix depending on the rank of $A$. The SVD provides us with an immediate way of getting $Q$ and $R$. If $A$ is low rank - implying that transforming by $A$ flattens some dimensions - then some of the singular values will be zero. We can drop the rows and columns of $U$ and $V$ corresponding to those singular values and merge $\\Sigma$ into either of them:\n",
    "\n",
    "<br>\n",
    "<center>\n",
    "    $A=U\\Sigma V^\\mathsf{T}=U(\\Sigma V^\\mathsf{T})=QR$\n",
    "</center>\n",
    "<br>\n",
    "\n",
    "More interestingly, the SVD provides a mechanism for *lossy* compression as well, based on the low-rank approximation idea presented above.  We round the singular values below some threshold to zero:"
   ]
  },
  {
   "cell_type": "code",
   "execution_count": 4,
   "metadata": {
    "ExecuteTime": {
     "end_time": "2019-11-03T21:55:01.391815Z",
     "start_time": "2019-11-03T21:55:01.304112Z"
    }
   },
   "outputs": [],
   "source": [
    "# Construct a matrix with a relatively low rank\n",
    "\n",
    "m = 1000\n",
    "n = 500\n",
    "r = 10\n",
    "\n",
    "Q = np.random.rand(m, r)\n",
    "R = np.random.rand(r, n)\n",
    "A = Q @ R"
   ]
  },
  {
   "cell_type": "code",
   "execution_count": 5,
   "metadata": {
    "ExecuteTime": {
     "end_time": "2019-11-03T21:55:01.965330Z",
     "start_time": "2019-11-03T21:55:01.586665Z"
    }
   },
   "outputs": [
    {
     "name": "stdout",
     "output_type": "stream",
     "text": [
      "U: (1000, 1000)\n",
      "S: (500,)\n",
      "Vt: (500, 500)\n"
     ]
    }
   ],
   "source": [
    "# Perform the Singular Value Decomposition\n",
    "U, Σ, Vt = np.linalg.svd(A)\n",
    "\n",
    "print('U:', U.shape)\n",
    "print('S:', Σ.shape)\n",
    "print('Vt:', Vt.shape)"
   ]
  },
  {
   "cell_type": "markdown",
   "metadata": {},
   "source": [
    "In the figure below, notice how the singular values beyond $\\text{rank(A)}$ (sorted from largest to smallest) are not precisely zero - this is due to floating point rounding error."
   ]
  },
  {
   "cell_type": "code",
   "execution_count": 6,
   "metadata": {
    "ExecuteTime": {
     "end_time": "2019-11-03T21:55:06.888571Z",
     "start_time": "2019-11-03T21:55:04.051679Z"
    }
   },
   "outputs": [
    {
     "data": {
      "image/png": "[encoded data removed]",
      "text/plain": [
       "<Figure size 720x216 with 1 Axes>"
      ]
     },
     "metadata": {
      "needs_background": "light"
     },
     "output_type": "display_data"
    }
   ],
   "source": [
    "plt.bar(np.arange(Σ.size) + 1, Σ/Σ.max())\n",
    "plt.xlim(0, 25)\n",
    "plt.yscale('log')\n",
    "plt.ylabel('$\\sigma_i / \\sigma_{max}$', rotation=0, labelpad=30)\n",
    "plt.xlabel('$i$')\n",
    "plt.show()"
   ]
  },
  {
   "cell_type": "code",
   "execution_count": 8,
   "metadata": {
    "ExecuteTime": {
     "end_time": "2019-11-03T21:55:46.999891Z",
     "start_time": "2019-11-03T21:55:46.919192Z"
    }
   },
   "outputs": [
    {
     "data": {
      "text/plain": [
       "500"
      ]
     },
     "execution_count": 8,
     "metadata": {},
     "output_type": "execute_result"
    }
   ],
   "source": [
    "# Numpy will still identify A as full rank, depending on a tolerance argument\n",
    "np.linalg.matrix_rank(A, tol=1e-33)"
   ]
  },
  {
   "cell_type": "code",
   "execution_count": 9,
   "metadata": {
    "ExecuteTime": {
     "end_time": "2019-11-03T21:55:57.336870Z",
     "start_time": "2019-11-03T21:55:57.219690Z"
    }
   },
   "outputs": [
    {
     "data": {
      "text/plain": [
       "10"
      ]
     },
     "execution_count": 9,
     "metadata": {},
     "output_type": "execute_result"
    }
   ],
   "source": [
    "np.linalg.matrix_rank(A, tol=1e-5)"
   ]
  },
  {
   "cell_type": "code",
   "execution_count": 10,
   "metadata": {
    "ExecuteTime": {
     "end_time": "2019-11-03T21:56:18.184105Z",
     "start_time": "2019-11-03T21:56:18.123459Z"
    }
   },
   "outputs": [],
   "source": [
    "# Demonstrate compression savings\n",
    "# We want A = QR\n",
    "\n",
    "r = 10\n",
    "Q = U[:, :r]\n",
    "R = np.diag(Σ[:r]) @ Vt[:r, :]"
   ]
  },
  {
   "cell_type": "code",
   "execution_count": 13,
   "metadata": {
    "ExecuteTime": {
     "end_time": "2019-11-03T21:56:35.556578Z",
     "start_time": "2019-11-03T21:56:35.546113Z"
    }
   },
   "outputs": [
    {
     "data": {
      "text/plain": [
       "500000"
      ]
     },
     "execution_count": 13,
     "metadata": {},
     "output_type": "execute_result"
    }
   ],
   "source": [
    "# Number of elements to store A\n",
    "A.size"
   ]
  },
  {
   "cell_type": "code",
   "execution_count": 14,
   "metadata": {
    "ExecuteTime": {
     "end_time": "2019-11-03T21:56:44.934422Z",
     "start_time": "2019-11-03T21:56:44.926146Z"
    }
   },
   "outputs": [
    {
     "data": {
      "text/plain": [
       "15000"
      ]
     },
     "execution_count": 14,
     "metadata": {},
     "output_type": "execute_result"
    }
   ],
   "source": [
    "# Number of elements to store factorized matrices\n",
    "Q.size + R.size"
   ]
  },
  {
   "cell_type": "markdown",
   "metadata": {},
   "source": [
    "#### Document Search\n",
    "\n",
    "Below is another fun example of how low-rank approximation can be applied. We have a set of $n$ documents, and within each document we count the number of instances of $m$ specific words. Ultimately, our goal is to be able to sort the documents by relevance given a target word. The problem is set up so that there are patterns in word usage. In fact, there are 3 general categories of document - music, math, and cats. The word usage definitely clusters by genre, but there are some spurious cases that break the pattern. SVD will help us identify the patterns despite the noise by finding the best approximation.\n",
    "\n",
    "We start by setting up the problem data:"
   ]
  },
  {
   "cell_type": "code",
   "execution_count": 16,
   "metadata": {
    "ExecuteTime": {
     "end_time": "2019-11-04T04:11:00.537621Z",
     "start_time": "2019-11-04T04:11:00.515852Z"
    }
   },
   "outputs": [
    {
     "data": {
      "text/plain": [
       "array([[ 5, 10,  0,  0,  0,  0,  0,  0,  0],\n",
       "       [ 5,  3,  8,  0,  0,  0,  0,  0,  2],\n",
       "       [ 2,  6, 12,  0,  0,  0,  0,  0,  0],\n",
       "       [ 0,  0,  0,  5,  9,  2,  0,  0,  0],\n",
       "       [ 0,  0,  0,  6,  4,  5,  0,  0,  0],\n",
       "       [ 0,  0,  0,  4,  4,  6,  0,  0,  0],\n",
       "       [ 0,  0,  0,  0,  0,  0, 10,  4,  5],\n",
       "       [ 0,  0,  0,  0,  0,  0, 10,  5, 11]])"
      ]
     },
     "execution_count": 16,
     "metadata": {},
     "output_type": "execute_result"
    }
   ],
   "source": [
    "words = np.array([\n",
    "    'drums',\n",
    "    'piano',\n",
    "    'chords',\n",
    "    'bayesian',\n",
    "    'matrix',\n",
    "    'coefficient',\n",
    "    'fluffy',\n",
    "    'meow'\n",
    "])\n",
    "\n",
    "titles = np.array([\n",
    "    'Music Theory for Beginners',\n",
    "    'A History of Jazz',\n",
    "    'Beethoven vs. Mechagodzilla',\n",
    "    'Elements of Statistical Learning',\n",
    "    'Finite Element Methods: the Hottest Trends',\n",
    "    'Introduction to Linear Algebra',\n",
    "    '10 Fluffy Cats you need to see RIGHT NOW!!!',\n",
    "    'The Lost Art of Grooming',\n",
    "    'Piano Cat Strikes Again'\n",
    "])\n",
    "\n",
    "word_counts = [\n",
    "    [ 5, 5,  2, 0, 0, 0,  0,  0],\n",
    "    [10, 3,  6, 0, 0, 0,  0,  0],\n",
    "    [ 0, 8, 12, 0, 0, 0,  0,  0],\n",
    "    [ 0, 0,  0, 5, 6, 4,  0,  0],\n",
    "    [ 0, 0,  0, 9, 4, 4,  0,  0],\n",
    "    [ 0, 0,  0, 2, 5, 6,  0,  0],\n",
    "    [ 0, 0,  0, 0, 0, 0, 10, 10],\n",
    "    [ 0, 0,  0, 0, 0, 0,  4,  5],\n",
    "    [ 0, 2,  0, 0, 0, 0,  5, 11]\n",
    "]\n",
    "\n",
    "A = np.array(word_counts).T\n",
    "m, n = A.shape\n",
    "\n",
    "A"
   ]
  },
  {
   "cell_type": "markdown",
   "metadata": {},
   "source": [
    "Next, we'll look at our singular values:"
   ]
  },
  {
   "cell_type": "code",
   "execution_count": 19,
   "metadata": {
    "ExecuteTime": {
     "end_time": "2019-11-04T04:11:16.516425Z",
     "start_time": "2019-11-04T04:11:16.506065Z"
    }
   },
   "outputs": [
    {
     "name": "stdout",
     "output_type": "stream",
     "text": [
      "U: (8, 8)\n",
      "S: (8,)\n",
      "Vt: (9, 9)\n"
     ]
    }
   ],
   "source": [
    "# Normalize the columns to remove the effect of word counts from each document\n",
    "A_norm = A / A.sum(axis=0)\n",
    "\n",
    "# Perform the Singular Value Decomposition\n",
    "U, Σ, Vt = np.linalg.svd(A_norm)\n",
    "\n",
    "print('U:', U.shape)\n",
    "print('S:', Σ.shape)\n",
    "print('Vt:', Vt.shape)"
   ]
  },
  {
   "cell_type": "code",
   "execution_count": 20,
   "metadata": {
    "ExecuteTime": {
     "end_time": "2019-11-04T04:11:19.234855Z",
     "start_time": "2019-11-04T04:11:18.911093Z"
    }
   },
   "outputs": [
    {
     "data": {
      "image/png": "[encoded data removed]",
      "text/plain": [
       "<Figure size 720x216 with 1 Axes>"
      ]
     },
     "metadata": {
      "needs_background": "light"
     },
     "output_type": "display_data"
    }
   ],
   "source": [
    "plt.plot(Σ, marker='o', lw=0)\n",
    "plt.xlabel('$\\sigma_i$')\n",
    "plt.show()"
   ]
  },
  {
   "cell_type": "markdown",
   "metadata": {},
   "source": [
    "Notice how the first 3 singular values are more significant than the later ones. Using the language of Principal Component Analysis, we would say the first three vectors in $U$ and $V$ \"explain most of the variance\" of the word count data. In more pure linear algebra speak, we would say $A$ is approximately rank 3.\n",
    "\n",
    "It's enlightening to look at the first 3 vectors in $U$ and $V$:"
   ]
  },
  {
   "cell_type": "code",
   "execution_count": 21,
   "metadata": {
    "ExecuteTime": {
     "end_time": "2019-11-04T04:11:23.368230Z",
     "start_time": "2019-11-04T04:11:22.893747Z"
    }
   },
   "outputs": [
    {
     "data": {
      "image/png": "[encoded data removed]",
      "text/plain": [
       "<Figure size 720x360 with 3 Axes>"
      ]
     },
     "metadata": {
      "needs_background": "light"
     },
     "output_type": "display_data"
    }
   ],
   "source": [
    "# Plot the principal basis vectors for the search terms\n",
    "\n",
    "fig, axs = plt.subplots(3, sharex=True, figsize=(10, 5))\n",
    "plt.subplots_adjust(hspace=0)\n",
    "\n",
    "for i in range(3):\n",
    "    plt.sca(axs[i])\n",
    "    plt.bar(range(m), abs(U[:, i]), alpha=0.7)\n",
    "    plt.yticks([])\n",
    "    plt.ylabel('Factor {}'.format(i), rotation='horizontal', labelpad=40)\n",
    "    \n",
    "plt.xticks(range(m), words, rotation=45)\n",
    "plt.show()"
   ]
  },
  {
   "cell_type": "markdown",
   "metadata": {},
   "source": [
    "The vectors in $U$ contain information about the clustering of the keywords."
   ]
  },
  {
   "cell_type": "code",
   "execution_count": 22,
   "metadata": {
    "ExecuteTime": {
     "end_time": "2019-11-04T04:11:30.983510Z",
     "start_time": "2019-11-04T04:11:30.141717Z"
    }
   },
   "outputs": [
    {
     "data": {
      "image/png": "[encoded data removed]",
      "text/plain": [
       "<Figure size 720x360 with 3 Axes>"
      ]
     },
     "metadata": {
      "needs_background": "light"
     },
     "output_type": "display_data"
    }
   ],
   "source": [
    "# Plot the principal basis vectors for the documents\n",
    "\n",
    "fig, axs = plt.subplots(3, sharex=True, figsize=(10, 5))\n",
    "plt.subplots_adjust(hspace=0)\n",
    "\n",
    "for i in range(3):\n",
    "    plt.sca(axs[i])\n",
    "    plt.bar(range(n), abs(Vt.T[:, i]), color='g', alpha=0.7)\n",
    "    plt.yticks([])\n",
    "    plt.ylabel('Factor {}'.format(i), rotation='horizontal', labelpad=40)\n",
    "    \n",
    "plt.xlabel('Document #')\n",
    "plt.show()"
   ]
  },
  {
   "cell_type": "markdown",
   "metadata": {},
   "source": [
    "The vectors in $V$ contain information about the clustering of the documents.\n",
    "\n",
    "If we were to reconstruct $A$ using only these first 3 vectors from $U$ and $V$ (equivalent to setting the remining singular values to zero), this is similar to saying the information in the remaining vectors is just noise. In our example, that translates roughly as \"while we have 8 distinct words, there are really only 3 *things* that matter.\" Similarly, \"while there are 9 distinct documents, there are only 3 *things* that matter.\""
   ]
  },
  {
   "cell_type": "code",
   "execution_count": 23,
   "metadata": {
    "ExecuteTime": {
     "end_time": "2019-11-04T04:11:32.699370Z",
     "start_time": "2019-11-04T04:11:32.687087Z"
    }
   },
   "outputs": [
    {
     "data": {
      "text/plain": [
       "array([[ 0.53,  0.53,  0.53,  0.  ,  0.  ,  0.  , -0.02, -0.02,  0.03],\n",
       "       [ 0.57,  0.57,  0.57,  0.  ,  0.  ,  0.  ,  0.04,  0.04,  0.09],\n",
       "       [ 0.63,  0.63,  0.63, -0.  , -0.  , -0.  , -0.02, -0.02,  0.04],\n",
       "       [ 0.  , -0.  , -0.  ,  0.59,  0.59,  0.59,  0.  ,  0.  ,  0.  ],\n",
       "       [ 0.  , -0.  , -0.  ,  0.59,  0.59,  0.59, -0.  , -0.  ,  0.  ],\n",
       "       [ 0.  , -0.  , -0.  ,  0.56,  0.56,  0.56,  0.  , -0.  ,  0.  ],\n",
       "       [-0.  , -0.02, -0.  , -0.  , -0.  , -0.  ,  0.59,  0.59,  0.59],\n",
       "       [ 0.01, -0.01,  0.01,  0.  ,  0.  ,  0.  ,  0.8 ,  0.8 ,  0.8 ]])"
      ]
     },
     "execution_count": 23,
     "metadata": {},
     "output_type": "execute_result"
    }
   ],
   "source": [
    "# Construct a rank 3 approximation of A\n",
    "\n",
    "A_hat = U[:, :3] @ np.diag(Σ[:3]) @ Vt[:3, :]\n",
    "A_hat /= np.linalg.norm(A_hat, axis=0)\n",
    "np.round(A_hat, 2)"
   ]
  },
  {
   "cell_type": "markdown",
   "metadata": {},
   "source": [
    "If we want to order the documents by relevance, we can now probe the \"overlap\" of a query vector with each document. If we did this with the original matrix $A$, then we would just retrieve the documents sorted by the prevalence of the target word. With our approximation, however, we have re-scored each document in terms of the 3 **latent factors** rather than words, and our search will now rank by the prevalence of those factors. \n",
    "\n",
    "The mathematical way of describing the similarity between two vectors is an inner product, so to create the ranking we take the inner product of our search vector with each column of $\\hat$"
   ]
  },
  {
   "cell_type": "code",
   "execution_count": 426,
   "metadata": {
    "ExecuteTime": {
     "end_time": "2019-10-18T04:08:22.451965Z",
     "start_time": "2019-10-18T04:08:22.427733Z"
    }
   },
   "outputs": [
    {
     "name": "stdout",
     "output_type": "stream",
     "text": [
      "Searching for piano...\n",
      "\n",
      "Music Theory for Beginners\n",
      "Beethoven vs. Mechagodzilla\n",
      "A History of Jazz\n",
      "Piano Cat Strikes Again\n",
      "The Lost Art of Grooming\n",
      "...\n"
     ]
    }
   ],
   "source": [
    "# Perform a search\n",
    "search_term = 1\n",
    "print('Searching for {}...\\n'.format(words[search_term]))\n",
    "\n",
    "# The search vector, x, is a vector of zeros with a '1' for the desired term. If we were to search for\n",
    "# multiple words, we would normalize x to have unit norm\n",
    "x = np.zeros(m)\n",
    "x[search_term] = 1\n",
    "\n",
    "# Compute the scores by projecting x onto each \"document\" (the columns of A_hat)\n",
    "scores = abs(A_hat.T @ x)\n",
    "\n",
    "# Sort the titles based on their scores, in descending order\n",
    "rank = np.argsort(scores)[::-1]\n",
    "sorted_titles = titles[rank]\n",
    "\n",
    "# Print the results\n",
    "for i in range(5):\n",
    "    print(sorted_titles[i])\n",
    "print('...')"
   ]
  }
 ],
 "metadata": {
  "kernelspec": {
   "display_name": "Python 3",
   "language": "python",
   "name": "python3"
  },
  "language_info": {
   "codemirror_mode": {
    "name": "ipython",
    "version": 3
   },
   "file_extension": ".py",
   "mimetype": "text/x-python",
   "name": "python",
   "nbconvert_exporter": "python",
   "pygments_lexer": "ipython3",
   "version": "3.6.7"
  },
  "latex_envs": {
   "LaTeX_envs_menu_present": true,
   "autoclose": true,
   "autocomplete": true,
   "bibliofile": "biblio.bib",
   "cite_by": "apalike",
   "current_citInitial": 1,
   "eqLabelWithNumbers": false,
   "eqNumInitial": 1,
   "hotkeys": {
    "equation": "Ctrl-E",
    "itemize": "Ctrl-I"
   },
   "labels_anchors": false,
   "latex_user_defs": false,
   "report_style_numbering": false,
   "user_envs_cfg": false
  },
  "toc": {
   "base_numbering": 1,
   "nav_menu": {},
   "number_sections": false,
   "sideBar": true,
   "skip_h1_title": false,
   "title_cell": "Table of Contents",
   "title_sidebar": "Contents",
   "toc_cell": false,
   "toc_position": {},
   "toc_section_display": true,
   "toc_window_display": true
  }
 },
 "nbformat": 4,
 "nbformat_minor": 2
}
