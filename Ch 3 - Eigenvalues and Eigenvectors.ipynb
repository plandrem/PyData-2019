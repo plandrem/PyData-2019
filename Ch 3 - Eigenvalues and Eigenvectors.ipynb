{
 "cells": [
  {
   "cell_type": "markdown",
   "metadata": {},
   "source": [
    "# Eigenvalues and Eigenvectors\n",
    "\n",
    "This chapter will revisit another significant topic that you would have seen in a typical linear algebra course. During my class experience, I recall going through mountainous piles of loose-leaf paper, solving characteristic polynomials to find eigenvectors of 2x2 matrices, without any motivation for the practice. \n",
    "\n",
    "Eigenvalues and vectors turn out to have myriad applications, and hopefully the content here will help remind you how these things work and provide a context to understand them when they show up elsewhere."
   ]
  },
  {
   "cell_type": "markdown",
   "metadata": {},
   "source": [
    "### Python Setup"
   ]
  },
  {
   "cell_type": "code",
   "execution_count": 3,
   "metadata": {
    "ExecuteTime": {
     "end_time": "2019-11-03T16:02:37.079954Z",
     "start_time": "2019-11-03T16:02:37.069530Z"
    }
   },
   "outputs": [],
   "source": [
    "# Render MPL figures within notebook cells\n",
    "%matplotlib inline\n",
    "\n",
    "# Import python libraries\n",
    "import numpy as np\n",
    "import matplotlib.pyplot as plt\n",
    "from matplotlib import rcParams"
   ]
  },
  {
   "cell_type": "code",
   "execution_count": 4,
   "metadata": {
    "ExecuteTime": {
     "end_time": "2019-11-03T16:02:37.132769Z",
     "start_time": "2019-11-03T16:02:37.082478Z"
    }
   },
   "outputs": [],
   "source": [
    "# Configure some defaults for plots\n",
    "rcParams['font.size'] = 16\n",
    "# rcParams['figure.figsize'] = (10, 3)"
   ]
  },
  {
   "cell_type": "code",
   "execution_count": 5,
   "metadata": {
    "ExecuteTime": {
     "end_time": "2019-11-03T16:02:37.144811Z",
     "start_time": "2019-11-03T16:02:37.136529Z"
    }
   },
   "outputs": [],
   "source": [
    "# Set Numpy's random number generator so the same results are produced each time the notebook is run\n",
    "np.random.seed(0)"
   ]
  },
  {
   "cell_type": "markdown",
   "metadata": {},
   "source": [
    "### A Quick Review\n",
    "\n",
    "It's helpful to start with a geometric picture. If you multiply a vector with a square matrix, the output will be another vector in the same space, but in general will \"point\" in another direction. For any matrix $A$, there are a set of special vectors $v$ whose output is a scaled version of the input:\n",
    "\n",
    "<img src='img/eig.png' style='height: 200px'>\n",
    "\n",
    "This relationship is expressed mathematically as \n",
    "\n",
    "<center>\n",
    "    $Av = \\lambda v$\n",
    "</center>\n",
    "\n",
    "where $v$ is called an **eigenvector** and the scaling factor $\\lambda$ is the associated **eigenvalue**. To emphasize, since the output has the same dimensions as the input, eigenvectors only make sense in the context of square matrices. A square matrix of dimension $n$ may have up to $n$ eigenvectors."
   ]
  },
  {
   "cell_type": "markdown",
   "metadata": {},
   "source": [
    "#### Finding Eigenvectors and Eigenvalues\n",
    "\n",
    "Given the definition of an eigenpair is $Av=\\lambda v$, it has to be true that $(A-\\lambda I)v=0$. Referring back to the previous chapter, this means that $v$ is in the nullspace of the matrix $M = (A - \\lambda I)$. This, in turn, means that $M$ **has** non-zero vectors in its nullspace, which means that the determinant must be zero.\n",
    "\n",
    "This is where in a linear algebra class, one would start writing out the determinants of matrices and solving for values of $\\lambda$ which produce a zero determinant. In practice, this is not an efficient way to find eigenpairs. Numpy uses the LAPACK routine `geev`:"
   ]
  },
  {
   "cell_type": "code",
   "execution_count": 6,
   "metadata": {
    "ExecuteTime": {
     "end_time": "2019-11-03T16:02:37.185528Z",
     "start_time": "2019-11-03T16:02:37.172492Z"
    }
   },
   "outputs": [
    {
     "data": {
      "text/plain": [
       "array([[1, 0, 0, 0, 0],\n",
       "       [0, 2, 0, 0, 0],\n",
       "       [0, 0, 3, 0, 0],\n",
       "       [0, 0, 0, 4, 0],\n",
       "       [0, 0, 0, 0, 5]])"
      ]
     },
     "execution_count": 6,
     "metadata": {},
     "output_type": "execute_result"
    }
   ],
   "source": [
    "A = np.diag([1, 2, 3, 4, 5])\n",
    "A"
   ]
  },
  {
   "cell_type": "code",
   "execution_count": 7,
   "metadata": {
    "ExecuteTime": {
     "end_time": "2019-11-03T16:02:37.206104Z",
     "start_time": "2019-11-03T16:02:37.189934Z"
    }
   },
   "outputs": [
    {
     "data": {
      "text/plain": [
       "array([1., 2., 3., 4., 5.])"
      ]
     },
     "execution_count": 7,
     "metadata": {},
     "output_type": "execute_result"
    }
   ],
   "source": [
    "λ, v = np.linalg.eig(A)\n",
    "\n",
    "# λ contains the eigenvalues\n",
    "λ"
   ]
  },
  {
   "cell_type": "code",
   "execution_count": 8,
   "metadata": {
    "ExecuteTime": {
     "end_time": "2019-11-03T16:02:37.222219Z",
     "start_time": "2019-11-03T16:02:37.210619Z"
    }
   },
   "outputs": [
    {
     "data": {
      "text/plain": [
       "array([[1., 0., 0., 0., 0.],\n",
       "       [0., 1., 0., 0., 0.],\n",
       "       [0., 0., 1., 0., 0.],\n",
       "       [0., 0., 0., 1., 0.],\n",
       "       [0., 0., 0., 0., 1.]])"
      ]
     },
     "execution_count": 8,
     "metadata": {},
     "output_type": "execute_result"
    }
   ],
   "source": [
    "# v contains the eigenvectors as columns\n",
    "v"
   ]
  },
  {
   "cell_type": "markdown",
   "metadata": {},
   "source": [
    "### Time Dynamics\n",
    "\n",
    "One of my favorite applications of eigenvectors is with systems that evolve over time - think object tracking or evolution of financial portfolios, etc. Any kind of time series data.\n",
    "\n",
    "In this context, a vector is a list of the parameters that describe the state of your system at a particular time. A nice, concrete example of \"the state\" from classical mechanics would be the position, velocity, and acceleration of an object. In finance it could be the dollar amounts in a list of assets.\n",
    "\n",
    "The matrix $A$ describes the process that updates the state from time $t$ to $t+1$:  \n",
    "<br>\n",
    "<center>\n",
    "    $x(t+1) = Ax(t)$\n",
    "</center>\n",
    "<br>\n",
    "It's possible to describe the state at an arbitrary time as a function of the input state using entirely terms that depend on the eigenvectors and eigenvalues:\n",
    "<br>\n",
    "<center>\n",
    "    $x(t) = (\\lambda_1^t v_1 + \\ldots)x(0)$\n",
    "</center>\n",
    "<br>\n",
    "\n",
    "Now, the $\\ldots$ above are hiding an ugly mess involving binomial coefficients and such - my aim is to simply highlight that every term contains one eigenvector scaled by something that looks like the matching eigenvalue raised to a power which grows with time. In special cases, if $A$ is diagonalizable, then the terms in the equation above becomes extremely simple:  \n",
    "<br>\n",
    "<center>\n",
    "    $x(t) = (\\lambda_1^t v_1 + \\lambda_2^t v_2 + \\ldots)x(0) = \\sum_{i=1}^n \\lambda_i^t v_i x(0)$\n",
    "</center>\n",
    "<br>\n",
    "\n",
    "First of all, how amazing is it that eigenvectors appear in this setting at all! These weird geometric oddities can describe how systems evolve in time from any starting state. Second, and just as amazing, this structure means that linear systems can only evolve in time in a few specific ways:\n",
    "\n",
    "<img src='img/dyn_eig.png' style='height: 200px'>\n",
    "\n",
    "1. Terms associated with eigenvalues of magnitude = 1 stay the same over time\n",
    "2. Terms associated with eigenvalues of magnitude < 1 decay over time\n",
    "3. Terms associated with eigenvalues of magnitude > 1 stay grow exponentially over time\n",
    "\n",
    "For a matrix with all real entries, it's possible to have complex eigenvalues and eigenvectors. Complex values will be associated with oscillating behavior, shown by dashed lines in the image above. The asymptotic behavior is still determined by the magnitude of the eigenvalue. "
   ]
  },
  {
   "cell_type": "markdown",
   "metadata": {},
   "source": [
    "### Markov Processes\n",
    "\n",
    "A fun example to show this idea is that of **Markov Processes**. In a Markov process, at any point in time we can be in one of several states. Each time step, we can transition to one of the other states with some probability based on where we are currently. An example system could be an employee - at any point the employee could be thinking, working, or idle:\n",
    "\n",
    "<img src='img/markov_1.png' style='height: 200px'>\n",
    "\n",
    "If we ran a simulation using coin flips to decide if we change states, we would end up with a sequence like  \n",
    "\n",
    "*idle - working - idle - thinking - thinking - working - thinking...*  \n",
    "\n",
    "This sequence is called a **Markov Chain**. A classic question one might ask with a model like this is \"what is the probability at any time that the employee is producing results?\""
   ]
  },
  {
   "cell_type": "markdown",
   "metadata": {},
   "source": [
    "Markov processes are linear. The vector $x$ represents the probability at time $t$ that we are in state 1 through state $n$. The square matrix $P$ is called the state transition matrix, and the entry $p_{i,j}$ is the probability of moving from state $j$ to state $i$:\n",
    "\n",
    "<img src='img/markov_matrix.png' style='height: 200px'>"
   ]
  },
  {
   "cell_type": "markdown",
   "metadata": {},
   "source": [
    "Ok, let's do an example. When I was in high school, I had a particularly boring hamster that had a set routine: *sleep - run on wheel - eat - sleep...*\n",
    "\n",
    "Here's the Markov process for my hamster:\n",
    "\n",
    "<img src='img/hamster.png' style='height: 200px'>"
   ]
  },
  {
   "cell_type": "code",
   "execution_count": 9,
   "metadata": {
    "ExecuteTime": {
     "end_time": "2019-11-03T16:02:37.353041Z",
     "start_time": "2019-11-03T16:02:37.345634Z"
    }
   },
   "outputs": [],
   "source": [
    "# The associated transition matrix is P\n",
    "P = np.array([[0, 0, 1],\n",
    "              [1, 0, 0],\n",
    "              [0, 1, 0]])\n",
    "\n",
    "λ, v = np.linalg.eig(P)"
   ]
  },
  {
   "cell_type": "code",
   "execution_count": 10,
   "metadata": {
    "ExecuteTime": {
     "end_time": "2019-11-03T16:02:37.413373Z",
     "start_time": "2019-11-03T16:02:37.356672Z"
    }
   },
   "outputs": [
    {
     "data": {
      "text/plain": [
       "array([-0.5+0.8660254j, -0.5-0.8660254j,  1. +0.j       ])"
      ]
     },
     "execution_count": 10,
     "metadata": {},
     "output_type": "execute_result"
    }
   ],
   "source": [
    "λ"
   ]
  },
  {
   "cell_type": "code",
   "execution_count": 11,
   "metadata": {
    "ExecuteTime": {
     "end_time": "2019-11-03T16:02:37.425927Z",
     "start_time": "2019-11-03T16:02:37.415369Z"
    }
   },
   "outputs": [
    {
     "data": {
      "text/plain": [
       "array([[ 0.57735027+0.j ,  0.57735027-0.j , -0.57735027+0.j ],\n",
       "       [-0.28867513-0.5j, -0.28867513+0.5j, -0.57735027+0.j ],\n",
       "       [-0.28867513+0.5j, -0.28867513-0.5j, -0.57735027+0.j ]])"
      ]
     },
     "execution_count": 11,
     "metadata": {},
     "output_type": "execute_result"
    }
   ],
   "source": [
    "v"
   ]
  },
  {
   "cell_type": "markdown",
   "metadata": {},
   "source": [
    "We have one eigenvalue of 1, corresponding to an eigenvector with equal weighting on all three states. The remaining eigenvectors form a complex conjugate pair - we would expect a complex value to appear given the clear, periodic nature of the example.\n",
    "\n",
    "We can look at another transition matrix, this time with all real eigenvectors. For sake of concreteness, this matrix could correspond to a chemical reaction, where the probabilities are now concentrations of mass in different reactants:"
   ]
  },
  {
   "cell_type": "code",
   "execution_count": 12,
   "metadata": {
    "ExecuteTime": {
     "end_time": "2019-11-03T16:02:37.438135Z",
     "start_time": "2019-11-03T16:02:37.430141Z"
    }
   },
   "outputs": [],
   "source": [
    "# Construct an example where all the non-unity eigenvalues are associated with decaying exponentials\n",
    "\n",
    "P = np.array([[1, 0.05, 0.0],\n",
    "              [0, 0.95, 0.2],\n",
    "              [0, 0.00, 0.8]])\n",
    "\n",
    "λ, v = np.linalg.eig(P)"
   ]
  },
  {
   "cell_type": "code",
   "execution_count": 13,
   "metadata": {
    "ExecuteTime": {
     "end_time": "2019-11-03T16:02:37.450185Z",
     "start_time": "2019-11-03T16:02:37.440953Z"
    }
   },
   "outputs": [
    {
     "data": {
      "text/plain": [
       "array([1.  , 0.95, 0.8 ])"
      ]
     },
     "execution_count": 13,
     "metadata": {},
     "output_type": "execute_result"
    }
   ],
   "source": [
    "λ"
   ]
  },
  {
   "cell_type": "code",
   "execution_count": 14,
   "metadata": {
    "ExecuteTime": {
     "end_time": "2019-11-03T16:02:37.461559Z",
     "start_time": "2019-11-03T16:02:37.453813Z"
    }
   },
   "outputs": [
    {
     "data": {
      "text/plain": [
       "array([[ 1.        , -0.70710678,  0.19611614],\n",
       "       [ 0.        ,  0.70710678, -0.78446454],\n",
       "       [ 0.        ,  0.        ,  0.58834841]])"
      ]
     },
     "execution_count": 14,
     "metadata": {},
     "output_type": "execute_result"
    }
   ],
   "source": [
    "v"
   ]
  },
  {
   "cell_type": "markdown",
   "metadata": {},
   "source": [
    "Before reading further, try to inspect the eigenvalues and eigenvectors and predict what this system will do over time. Does your prediction make sense if you try to imagine the process by looking at the transition matrix?\n",
    "\n",
    "Ok, let's run a simulation to see what this does over time:"
   ]
  },
  {
   "cell_type": "code",
   "execution_count": 15,
   "metadata": {
    "ExecuteTime": {
     "end_time": "2019-11-03T16:02:38.192801Z",
     "start_time": "2019-11-03T16:02:37.465510Z"
    }
   },
   "outputs": [
    {
     "data": {
      "image/png": "[encoded data removed]",
      "text/plain": [
       "<Figure size 432x288 with 1 Axes>"
      ]
     },
     "metadata": {
      "needs_background": "light"
     },
     "output_type": "display_data"
    }
   ],
   "source": [
    "# Simulate the evolution of the system, starting from a uniform state\n",
    "T = 100\n",
    "x = np.ones((3, T)) / 3.\n",
    "\n",
    "for t in np.arange(1, T):\n",
    "    x[:, t] = P @ x[:, t-1]\n",
    "\n",
    "plt.figure()\n",
    "plt.plot(x.T)\n",
    "plt.legend(labels=['$x_1$', '$x_2$', '$x_3$'])\n",
    "plt.show()"
   ]
  },
  {
   "cell_type": "markdown",
   "metadata": {},
   "source": [
    "We have two eigenvalues with magnitude less than 1, so any contribution to the initial state from those eigenvectors will dampen out over time. The one eigenvalue with magnitude 1 will dominate over time - this eigenvalue corresponds to the eigenvector having 100% occupation of state 1, so eventually the probability of being in state 1 approaches 100%.\n",
    "\n",
    "Markov transition matrices, because of the structure imposed to contain probabilities summing to 1, will always have an eigenvalue with magnitude 1. This idea is one of the foundational principles of Google's PageRank algorithm. Thus, whether you like it or not, this theory impacts your life every single day!"
   ]
  },
  {
   "cell_type": "code",
   "execution_count": null,
   "metadata": {},
   "outputs": [],
   "source": []
  }
 ],
 "metadata": {
  "kernelspec": {
   "display_name": "Python 3",
   "language": "python",
   "name": "python3"
  },
  "language_info": {
   "codemirror_mode": {
    "name": "ipython",
    "version": 3
   },
   "file_extension": ".py",
   "mimetype": "text/x-python",
   "name": "python",
   "nbconvert_exporter": "python",
   "pygments_lexer": "ipython3",
   "version": "3.6.7"
  },
  "latex_envs": {
   "LaTeX_envs_menu_present": true,
   "autoclose": true,
   "autocomplete": false,
   "bibliofile": "biblio.bib",
   "cite_by": "apalike",
   "current_citInitial": 1,
   "eqLabelWithNumbers": false,
   "eqNumInitial": 1,
   "hotkeys": {
    "equation": "Ctrl-E",
    "itemize": "Ctrl-I"
   },
   "labels_anchors": false,
   "latex_user_defs": false,
   "report_style_numbering": false,
   "user_envs_cfg": false
  },
  "toc": {
   "base_numbering": 1,
   "nav_menu": {},
   "number_sections": false,
   "sideBar": true,
   "skip_h1_title": false,
   "title_cell": "Table of Contents",
   "title_sidebar": "Contents",
   "toc_cell": false,
   "toc_position": {},
   "toc_section_display": true,
   "toc_window_display": true
  }
 },
 "nbformat": 4,
 "nbformat_minor": 2
}
